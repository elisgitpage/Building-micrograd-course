{
 "cells": [
  {
   "cell_type": "code",
   "execution_count": 2,
   "metadata": {},
   "outputs": [],
   "source": [
    "import math\n",
    "import numpy as np\n",
    "import matplotlib.pyplot as plt\n",
    "%matplotlib inline"
   ]
  },
  {
   "cell_type": "code",
   "execution_count": 3,
   "metadata": {},
   "outputs": [],
   "source": [
    "def f(x):\n",
    "    return 3*x**2 - 4*x + 5"
   ]
  },
  {
   "cell_type": "code",
   "execution_count": 4,
   "metadata": {},
   "outputs": [
    {
     "data": {
      "text/plain": [
       "20.0"
      ]
     },
     "execution_count": 4,
     "metadata": {},
     "output_type": "execute_result"
    }
   ],
   "source": [
    "f(3.0)"
   ]
  },
  {
   "cell_type": "code",
   "execution_count": 5,
   "metadata": {},
   "outputs": [
    {
     "data": {
      "text/plain": [
       "[<matplotlib.lines.Line2D at 0x1d5bd2054c0>]"
      ]
     },
     "execution_count": 5,
     "metadata": {},
     "output_type": "execute_result"
    },
    {
     "data": {
      "image/png": "[encoded data removed]",
      "text/plain": [
       "<Figure size 640x480 with 1 Axes>"
      ]
     },
     "metadata": {},
     "output_type": "display_data"
    }
   ],
   "source": [
    "xs = np.arange(-5, 5, 0.25)\n",
    "ys = f(xs)\n",
    "plt.plot(xs, ys)"
   ]
  },
  {
   "cell_type": "code",
   "execution_count": 6,
   "metadata": {},
   "outputs": [
    {
     "data": {
      "text/plain": [
       "3.0000002482211127e-05"
      ]
     },
     "execution_count": 6,
     "metadata": {},
     "output_type": "execute_result"
    }
   ],
   "source": [
    "h = 0.00001\n",
    "x = 2/3\n",
    "(f(x + h) - f(x))/h"
   ]
  },
  {
   "cell_type": "code",
   "execution_count": 7,
   "metadata": {},
   "outputs": [
    {
     "name": "stdout",
     "output_type": "stream",
     "text": [
      "4.0\n"
     ]
    }
   ],
   "source": [
    "# more complex function, with 3 scalar inputs\n",
    "a = 2.0\n",
    "b = -3.0\n",
    "c = 10.0\n",
    "d = a*b + c\n",
    "print(d)"
   ]
  },
  {
   "cell_type": "code",
   "execution_count": 8,
   "metadata": {},
   "outputs": [
    {
     "name": "stdout",
     "output_type": "stream",
     "text": [
      "d1 4.0\n",
      "d2 4.0001\n",
      "slope 0.9999999999976694\n"
     ]
    }
   ],
   "source": [
    "h = 0.0001\n",
    "\n",
    "# inputs\n",
    "a = 2.0\n",
    "b = -3.0\n",
    "c = 10.0\n",
    "d1 = a*b + c\n",
    "c += h\n",
    "d2 = a*b + c\n",
    "\n",
    "print('d1', d1)\n",
    "print('d2', d2)\n",
    "print('slope', (d2 - d1)/h)"
   ]
  },
  {
   "cell_type": "code",
   "execution_count": 145,
   "metadata": {},
   "outputs": [],
   "source": [
    "class Value:\n",
    "\n",
    "    def __init__(self, data, _children=(), _op='', label=''):\n",
    "        self.data = data\n",
    "        self.grad = 0.0\n",
    "        self._backward = lambda: None\n",
    "        self._prev = set(_children)\n",
    "        self._op = _op\n",
    "        self.label = label\n",
    "\n",
    "    def __repr__(self) -> str:\n",
    "        return f\"Value(data = {self.data})\"\n",
    "\n",
    "    def __add__(self, other):\n",
    "        out = Value(self.data + other.data, (self, other), '+', '')\n",
    "        \n",
    "        def _backward():\n",
    "            self.grad += 1.0 * out.grad\n",
    "            other.grad += 1.0 * out.grad\n",
    "        out._backward = _backward\n",
    "        \n",
    "        return out\n",
    "\n",
    "    def __mul__(self, other):\n",
    "        out = Value(self.data * other.data, (self, other), '*', '')\n",
    "        \n",
    "        def _backward():\n",
    "            self.grad += other.data * out.grad\n",
    "            other.grad += self.data * out.grad\n",
    "        out._backward = _backward\n",
    "        \n",
    "        return out\n",
    "    \n",
    "    def tanh(self):\n",
    "        x = self.data\n",
    "        t = (math.exp(2*x) - 1)/(math.exp(2*x) + 1)\n",
    "        out = Value(t, (self,), 'tanh', '')\n",
    "        \n",
    "        def _backward():\n",
    "            self.grad += (1 - t**2) * out.grad\n",
    "        out._backward = _backward\n",
    "        \n",
    "        return out\n",
    "    \n",
    "    def backward(self):\n",
    "        \n",
    "        topo = []\n",
    "        visited = set()\n",
    "        def build_topo(v):\n",
    "            if v not in visited:\n",
    "                visited.add(v)\n",
    "                for child in v._prev:\n",
    "                    build_topo(child)\n",
    "                topo.append(v)\n",
    "        build_topo(self)\n",
    "        \n",
    "        self.grad = 1.0\n",
    "        for node in reversed(topo):\n",
    "            node._backward()\n"
   ]
  },
  {
   "cell_type": "code",
   "execution_count": 64,
   "metadata": {},
   "outputs": [],
   "source": [
    "    a = Value(2.0, label='a')\n",
    "    b = Value(-3.0, label='b')\n",
    "    c = Value(10.0, label='c')\n",
    "    e = a*b; e.label = 'e'\n",
    "    d = e + c; d.label = 'd'\n",
    "    f = Value(-2.0, label='f')\n",
    "    L = d * f; L.label = 'L'"
   ]
  },
  {
   "cell_type": "code",
   "execution_count": 65,
   "metadata": {},
   "outputs": [],
   "source": [
    "import graphviz\n",
    "\n",
    "def trace(root):\n",
    "  # builds a set of all nodes and edges in a graph\n",
    "  nodes, edges = set(), set()\n",
    "  def build(v):\n",
    "    if v not in nodes:\n",
    "      nodes.add(v)\n",
    "      for child in v._prev:\n",
    "        edges.add((child, v))\n",
    "        build(child)\n",
    "  build(root)\n",
    "  return nodes, edges\n",
    "\n",
    "def draw_dot(root):\n",
    "  dot = graphviz.Digraph(format='svg', graph_attr={'rankdir': 'LR'}) # LR = left to right\n",
    "  \n",
    "  nodes, edges = trace(root)\n",
    "  for n in nodes:\n",
    "    uid = str(id(n))\n",
    "    # for any value in the graph, create a rectangular ('record') node for it\n",
    "    dot.node(name = uid, label = \"{ %s | data %.4f | grad %.4f }\" % (n.label, n.data, n.grad), shape='record')\n",
    "    if n._op:\n",
    "      # if this value is a result of some operation, create an op node for it\n",
    "      dot.node(name = uid + n._op, label = n._op)\n",
    "      # and connect this node to it\n",
    "      dot.edge(uid + n._op, uid)\n",
    "\n",
    "  for n1, n2 in edges:\n",
    "    # connect n1 to the op node of n2\n",
    "    dot.edge(str(id(n1)), str(id(n2)) + n2._op)\n",
    "\n",
    "  return dot"
   ]
  },
  {
   "cell_type": "code",
   "execution_count": 71,
   "metadata": {},
   "outputs": [
    {
     "data": {
      "image/svg+xml": [
       "<?xml version=\"1.0\" encoding=\"UTF-8\" standalone=\"no\"?>\n",
       "<!DOCTYPE svg PUBLIC \"-//W3C//DTD SVG 1.1//EN\"\n",
       " \"http://www.w3.org/Graphics/SVG/1.1/DTD/svg11.dtd\">\n",
       "<!-- Generated by graphviz version 7.1.0 (20230121.1956)\n",
       " -->\n",
       "<!-- Pages: 1 -->\n",
       "<svg width=\"1167pt\" height=\"156pt\"\n",
       " viewBox=\"0.00 0.00 1167.00 156.00\" xmlns=\"http://www.w3.org/2000/svg\" xmlns:xlink=\"http://www.w3.org/1999/xlink\">\n",
       "<g id=\"graph0\" class=\"graph\" transform=\"scale(1 1) rotate(0) translate(4 152)\">\n",
       "<polygon fill=\"white\" stroke=\"none\" points=\"-4,4 -4,-152 1163,-152 1163,4 -4,4\"/>\n",
       "<!-- 2017519960608 -->\n",
       "<g id=\"node1\" class=\"node\">\n",
       "<title>2017519960608</title>\n",
       "<polygon fill=\"none\" stroke=\"black\" points=\"5,-111.5 5,-147.5 192,-147.5 192,-111.5 5,-111.5\"/>\n",
       "<text text-anchor=\"middle\" x=\"16.5\" y=\"-125.8\" font-family=\"Times New Roman,serif\" font-size=\"14.00\">a</text>\n",
       "<polyline fill=\"none\" stroke=\"black\" points=\"28,-111.5 28,-147.5\"/>\n",
       "<text text-anchor=\"middle\" x=\"68.5\" y=\"-125.8\" font-family=\"Times New Roman,serif\" font-size=\"14.00\">data 2.0000</text>\n",
       "<polyline fill=\"none\" stroke=\"black\" points=\"109,-111.5 109,-147.5\"/>\n",
       "<text text-anchor=\"middle\" x=\"150.5\" y=\"-125.8\" font-family=\"Times New Roman,serif\" font-size=\"14.00\">grad 6.0000</text>\n",
       "</g>\n",
       "<!-- 2017519961520* -->\n",
       "<g id=\"node9\" class=\"node\">\n",
       "<title>2017519961520*</title>\n",
       "<ellipse fill=\"none\" stroke=\"black\" cx=\"260\" cy=\"-101.5\" rx=\"27\" ry=\"18\"/>\n",
       "<text text-anchor=\"middle\" x=\"260\" y=\"-97.8\" font-family=\"Times New Roman,serif\" font-size=\"14.00\">*</text>\n",
       "</g>\n",
       "<!-- 2017519960608&#45;&gt;2017519961520* -->\n",
       "<g id=\"edge4\" class=\"edge\">\n",
       "<title>2017519960608&#45;&gt;2017519961520*</title>\n",
       "<path fill=\"none\" stroke=\"black\" d=\"M191.82,-113.29C202.57,-111.41 213.01,-109.57 222.33,-107.94\"/>\n",
       "<polygon fill=\"black\" stroke=\"black\" points=\"222.74,-111.42 231.99,-106.24 221.53,-104.52 222.74,-111.42\"/>\n",
       "</g>\n",
       "<!-- 2017519963344 -->\n",
       "<g id=\"node2\" class=\"node\">\n",
       "<title>2017519963344</title>\n",
       "<polygon fill=\"none\" stroke=\"black\" points=\"0,-56.5 0,-92.5 197,-92.5 197,-56.5 0,-56.5\"/>\n",
       "<text text-anchor=\"middle\" x=\"12\" y=\"-70.8\" font-family=\"Times New Roman,serif\" font-size=\"14.00\">b</text>\n",
       "<polyline fill=\"none\" stroke=\"black\" points=\"24,-56.5 24,-92.5\"/>\n",
       "<text text-anchor=\"middle\" x=\"67\" y=\"-70.8\" font-family=\"Times New Roman,serif\" font-size=\"14.00\">data &#45;3.0000</text>\n",
       "<polyline fill=\"none\" stroke=\"black\" points=\"110,-56.5 110,-92.5\"/>\n",
       "<text text-anchor=\"middle\" x=\"153.5\" y=\"-70.8\" font-family=\"Times New Roman,serif\" font-size=\"14.00\">grad &#45;4.0000</text>\n",
       "</g>\n",
       "<!-- 2017519963344&#45;&gt;2017519961520* -->\n",
       "<g id=\"edge6\" class=\"edge\">\n",
       "<title>2017519963344&#45;&gt;2017519961520*</title>\n",
       "<path fill=\"none\" stroke=\"black\" d=\"M196.88,-90.98C205.84,-92.5 214.48,-93.96 222.33,-95.29\"/>\n",
       "<polygon fill=\"black\" stroke=\"black\" points=\"221.64,-98.72 232.08,-96.94 222.8,-91.82 221.64,-98.72\"/>\n",
       "</g>\n",
       "<!-- 2017519960848 -->\n",
       "<g id=\"node3\" class=\"node\">\n",
       "<title>2017519960848</title>\n",
       "<polygon fill=\"none\" stroke=\"black\" points=\"965,-27.5 965,-63.5 1159,-63.5 1159,-27.5 965,-27.5\"/>\n",
       "<text text-anchor=\"middle\" x=\"977.5\" y=\"-41.8\" font-family=\"Times New Roman,serif\" font-size=\"14.00\">L</text>\n",
       "<polyline fill=\"none\" stroke=\"black\" points=\"990,-27.5 990,-63.5\"/>\n",
       "<text text-anchor=\"middle\" x=\"1033\" y=\"-41.8\" font-family=\"Times New Roman,serif\" font-size=\"14.00\">data &#45;8.0000</text>\n",
       "<polyline fill=\"none\" stroke=\"black\" points=\"1076,-27.5 1076,-63.5\"/>\n",
       "<text text-anchor=\"middle\" x=\"1117.5\" y=\"-41.8\" font-family=\"Times New Roman,serif\" font-size=\"14.00\">grad 1.0000</text>\n",
       "</g>\n",
       "<!-- 2017519960848* -->\n",
       "<g id=\"node4\" class=\"node\">\n",
       "<title>2017519960848*</title>\n",
       "<ellipse fill=\"none\" stroke=\"black\" cx=\"902\" cy=\"-45.5\" rx=\"27\" ry=\"18\"/>\n",
       "<text text-anchor=\"middle\" x=\"902\" y=\"-41.8\" font-family=\"Times New Roman,serif\" font-size=\"14.00\">*</text>\n",
       "</g>\n",
       "<!-- 2017519960848*&#45;&gt;2017519960848 -->\n",
       "<g id=\"edge1\" class=\"edge\">\n",
       "<title>2017519960848*&#45;&gt;2017519960848</title>\n",
       "<path fill=\"none\" stroke=\"black\" d=\"M929.45,-45.5C936.67,-45.5 944.97,-45.5 953.82,-45.5\"/>\n",
       "<polygon fill=\"black\" stroke=\"black\" points=\"953.75,-49 963.75,-45.5 953.75,-42 953.75,-49\"/>\n",
       "</g>\n",
       "<!-- 2017519963488 -->\n",
       "<g id=\"node5\" class=\"node\">\n",
       "<title>2017519963488</title>\n",
       "<polygon fill=\"none\" stroke=\"black\" points=\"323,-28.5 323,-64.5 521,-64.5 521,-28.5 323,-28.5\"/>\n",
       "<text text-anchor=\"middle\" x=\"334.5\" y=\"-42.8\" font-family=\"Times New Roman,serif\" font-size=\"14.00\">c</text>\n",
       "<polyline fill=\"none\" stroke=\"black\" points=\"346,-28.5 346,-64.5\"/>\n",
       "<text text-anchor=\"middle\" x=\"390\" y=\"-42.8\" font-family=\"Times New Roman,serif\" font-size=\"14.00\">data 10.0000</text>\n",
       "<polyline fill=\"none\" stroke=\"black\" points=\"434,-28.5 434,-64.5\"/>\n",
       "<text text-anchor=\"middle\" x=\"477.5\" y=\"-42.8\" font-family=\"Times New Roman,serif\" font-size=\"14.00\">grad &#45;2.0000</text>\n",
       "</g>\n",
       "<!-- 2017512448400+ -->\n",
       "<g id=\"node7\" class=\"node\">\n",
       "<title>2017512448400+</title>\n",
       "<ellipse fill=\"none\" stroke=\"black\" cx=\"584\" cy=\"-73.5\" rx=\"27\" ry=\"18\"/>\n",
       "<text text-anchor=\"middle\" x=\"584\" y=\"-69.8\" font-family=\"Times New Roman,serif\" font-size=\"14.00\">+</text>\n",
       "</g>\n",
       "<!-- 2017519963488&#45;&gt;2017512448400+ -->\n",
       "<g id=\"edge8\" class=\"edge\">\n",
       "<title>2017519963488&#45;&gt;2017512448400+</title>\n",
       "<path fill=\"none\" stroke=\"black\" d=\"M520.68,-62.98C529.67,-64.5 538.34,-65.96 546.22,-67.29\"/>\n",
       "<polygon fill=\"black\" stroke=\"black\" points=\"545.56,-70.73 556,-68.94 546.72,-63.83 545.56,-70.73\"/>\n",
       "</g>\n",
       "<!-- 2017512448400 -->\n",
       "<g id=\"node6\" class=\"node\">\n",
       "<title>2017512448400</title>\n",
       "<polygon fill=\"none\" stroke=\"black\" points=\"647,-55.5 647,-91.5 839,-91.5 839,-55.5 647,-55.5\"/>\n",
       "<text text-anchor=\"middle\" x=\"659\" y=\"-69.8\" font-family=\"Times New Roman,serif\" font-size=\"14.00\">d</text>\n",
       "<polyline fill=\"none\" stroke=\"black\" points=\"671,-55.5 671,-91.5\"/>\n",
       "<text text-anchor=\"middle\" x=\"711.5\" y=\"-69.8\" font-family=\"Times New Roman,serif\" font-size=\"14.00\">data 4.0000</text>\n",
       "<polyline fill=\"none\" stroke=\"black\" points=\"752,-55.5 752,-91.5\"/>\n",
       "<text text-anchor=\"middle\" x=\"795.5\" y=\"-69.8\" font-family=\"Times New Roman,serif\" font-size=\"14.00\">grad &#45;2.0000</text>\n",
       "</g>\n",
       "<!-- 2017512448400&#45;&gt;2017519960848* -->\n",
       "<g id=\"edge7\" class=\"edge\">\n",
       "<title>2017512448400&#45;&gt;2017519960848*</title>\n",
       "<path fill=\"none\" stroke=\"black\" d=\"M838.95,-56.57C847.87,-54.98 856.49,-53.44 864.33,-52.04\"/>\n",
       "<polygon fill=\"black\" stroke=\"black\" points=\"864.84,-55.5 874.07,-50.3 863.61,-48.61 864.84,-55.5\"/>\n",
       "</g>\n",
       "<!-- 2017512448400+&#45;&gt;2017512448400 -->\n",
       "<g id=\"edge2\" class=\"edge\">\n",
       "<title>2017512448400+&#45;&gt;2017512448400</title>\n",
       "<path fill=\"none\" stroke=\"black\" d=\"M611.28,-73.5C618.52,-73.5 626.85,-73.5 635.72,-73.5\"/>\n",
       "<polygon fill=\"black\" stroke=\"black\" points=\"635.69,-77 645.69,-73.5 635.69,-70 635.69,-77\"/>\n",
       "</g>\n",
       "<!-- 2017519961520 -->\n",
       "<g id=\"node8\" class=\"node\">\n",
       "<title>2017519961520</title>\n",
       "<polygon fill=\"none\" stroke=\"black\" points=\"324,-83.5 324,-119.5 520,-119.5 520,-83.5 324,-83.5\"/>\n",
       "<text text-anchor=\"middle\" x=\"335.5\" y=\"-97.8\" font-family=\"Times New Roman,serif\" font-size=\"14.00\">e</text>\n",
       "<polyline fill=\"none\" stroke=\"black\" points=\"347,-83.5 347,-119.5\"/>\n",
       "<text text-anchor=\"middle\" x=\"390\" y=\"-97.8\" font-family=\"Times New Roman,serif\" font-size=\"14.00\">data &#45;6.0000</text>\n",
       "<polyline fill=\"none\" stroke=\"black\" points=\"433,-83.5 433,-119.5\"/>\n",
       "<text text-anchor=\"middle\" x=\"476.5\" y=\"-97.8\" font-family=\"Times New Roman,serif\" font-size=\"14.00\">grad &#45;2.0000</text>\n",
       "</g>\n",
       "<!-- 2017519961520&#45;&gt;2017512448400+ -->\n",
       "<g id=\"edge9\" class=\"edge\">\n",
       "<title>2017519961520&#45;&gt;2017512448400+</title>\n",
       "<path fill=\"none\" stroke=\"black\" d=\"M519.76,-84.57C529.05,-82.94 538.02,-81.37 546.14,-79.95\"/>\n",
       "<polygon fill=\"black\" stroke=\"black\" points=\"546.64,-83.42 555.89,-78.25 545.43,-76.52 546.64,-83.42\"/>\n",
       "</g>\n",
       "<!-- 2017519961520*&#45;&gt;2017519961520 -->\n",
       "<g id=\"edge3\" class=\"edge\">\n",
       "<title>2017519961520*&#45;&gt;2017519961520</title>\n",
       "<path fill=\"none\" stroke=\"black\" d=\"M287.42,-101.5C294.87,-101.5 303.46,-101.5 312.62,-101.5\"/>\n",
       "<polygon fill=\"black\" stroke=\"black\" points=\"312.53,-105 322.53,-101.5 312.53,-98 312.53,-105\"/>\n",
       "</g>\n",
       "<!-- 2017519992256 -->\n",
       "<g id=\"node10\" class=\"node\">\n",
       "<title>2017519992256</title>\n",
       "<polygon fill=\"none\" stroke=\"black\" points=\"648,-0.5 648,-36.5 838,-36.5 838,-0.5 648,-0.5\"/>\n",
       "<text text-anchor=\"middle\" x=\"658.5\" y=\"-14.8\" font-family=\"Times New Roman,serif\" font-size=\"14.00\">f</text>\n",
       "<polyline fill=\"none\" stroke=\"black\" points=\"669,-0.5 669,-36.5\"/>\n",
       "<text text-anchor=\"middle\" x=\"712\" y=\"-14.8\" font-family=\"Times New Roman,serif\" font-size=\"14.00\">data &#45;2.0000</text>\n",
       "<polyline fill=\"none\" stroke=\"black\" points=\"755,-0.5 755,-36.5\"/>\n",
       "<text text-anchor=\"middle\" x=\"796.5\" y=\"-14.8\" font-family=\"Times New Roman,serif\" font-size=\"14.00\">grad 4.0000</text>\n",
       "</g>\n",
       "<!-- 2017519992256&#45;&gt;2017519960848* -->\n",
       "<g id=\"edge5\" class=\"edge\">\n",
       "<title>2017519992256&#45;&gt;2017519960848*</title>\n",
       "<path fill=\"none\" stroke=\"black\" d=\"M837.59,-34.6C846.95,-36.2 856,-37.76 864.21,-39.17\"/>\n",
       "<polygon fill=\"black\" stroke=\"black\" points=\"863.6,-42.62 874.05,-40.87 864.79,-35.72 863.6,-42.62\"/>\n",
       "</g>\n",
       "</g>\n",
       "</svg>\n"
      ],
      "text/plain": [
       "<graphviz.graphs.Digraph at 0x1d5bda39d30>"
      ]
     },
     "execution_count": 71,
     "metadata": {},
     "output_type": "execute_result"
    }
   ],
   "source": [
    "draw_dot(L)"
   ]
  },
  {
   "cell_type": "code",
   "execution_count": 67,
   "metadata": {},
   "outputs": [],
   "source": [
    "L.grad = 1\n",
    "f.grad = 4\n",
    "d.grad = -2"
   ]
  },
  {
   "cell_type": "markdown",
   "metadata": {},
   "source": [
    "derivative chain rule:\n",
    "dL/dc = dL/dd * dd/dc\n",
    "\n",
    "d = e + c\n",
    "dc/dd = ((e+(c+h)) - (e+c)/h\n",
    "dc/dd = (e + c + h - e - c)/h = h / h = 1\n",
    "\n",
    "same for e\n",
    "\n",
    "dL/dc =  dL/dd * dd/dc = -2 * 1 = -2\n",
    "dL/dd = dL/dd * dd/de = -2 * 1 = -2"
   ]
  },
  {
   "cell_type": "code",
   "execution_count": 68,
   "metadata": {},
   "outputs": [],
   "source": [
    "c.grad = -2\n",
    "e.grad = -2"
   ]
  },
  {
   "cell_type": "markdown",
   "metadata": {},
   "source": [
    "dL/da = de/da * dd/de * dL/dd = de/da * dL/de = b * dL/de = -3 * -2 = 6\n",
    "dL/db = de/db * dd/de * dL/dd = de/db * dL/de = a * dL/de = 2 * -2 = -4\n"
   ]
  },
  {
   "cell_type": "code",
   "execution_count": 70,
   "metadata": {},
   "outputs": [],
   "source": [
    "a.grad = 6\n",
    "b.grad = -4"
   ]
  },
  {
   "cell_type": "code",
   "execution_count": 72,
   "metadata": {},
   "outputs": [
    {
     "name": "stdout",
     "output_type": "stream",
     "text": [
      "-3.9999999999995595\n"
     ]
    }
   ],
   "source": [
    "def lol():\n",
    "    a = Value(2.0, label='a')\n",
    "    b = Value(-3.0, label='b')\n",
    "    c = Value(10.0, label='c')\n",
    "    e = a*b; e.label = 'e'\n",
    "    d = e + c; d.label = 'd'\n",
    "    f = Value(-2.0, label='f')\n",
    "    L = d * f; L.label = 'L'\n",
    "    L1 = L.data\n",
    "    \n",
    "    h = 0.001\n",
    "    a = Value(2.0, label='a')\n",
    "    b = Value(-3.0, label='b')\n",
    "    b.data += h\n",
    "    c = Value(10.0, label='c')\n",
    "    e = a*b; e.label = 'e'\n",
    "    d = e + c; d.label = 'd'\n",
    "    d.data\n",
    "    f = Value(-2.0, label='f')\n",
    "    L = d * f; L.label = 'L'\n",
    "    L2 = L.data\n",
    "    \n",
    "    grad = (L2 - L1)/h\n",
    "    print(grad)\n",
    "lol()"
   ]
  },
  {
   "cell_type": "code",
   "execution_count": 73,
   "metadata": {},
   "outputs": [
    {
     "name": "stdout",
     "output_type": "stream",
     "text": [
      "-7.509552\n"
     ]
    }
   ],
   "source": [
    "a.data += 0.01 * a.grad\n",
    "b.data += 0.01 * b.grad\n",
    "c.data += 0.01 * c.grad\n",
    "f.data += 0.01 * d.grad\n",
    "\n",
    "e = a*b\n",
    "d = e + c\n",
    "L = d * f\n",
    "\n",
    "print(L.data)"
   ]
  },
  {
   "cell_type": "code",
   "execution_count": 74,
   "metadata": {},
   "outputs": [
    {
     "data": {
      "image/png": "[encoded data removed]",
      "text/plain": [
       "<Figure size 640x480 with 1 Axes>"
      ]
     },
     "metadata": {},
     "output_type": "display_data"
    }
   ],
   "source": [
    "plt.plot(np.arange(-5,5,0.2), np.tanh(np.arange(-5,5,0.2))); plt.grid()"
   ]
  },
  {
   "cell_type": "code",
   "execution_count": 141,
   "metadata": {},
   "outputs": [],
   "source": [
    "# inputs x1, x2\n",
    "x1 = Value(2.0, label='x1')\n",
    "x2 = Value(0.0, label='x2')\n",
    "# weights w1, w2\n",
    "w1 = Value(-3.0, label='w1')\n",
    "w2= Value(1.0, label='w2')\n",
    "# bias of the neuron\n",
    "b = Value(6.8813735870195432, label='b')\n",
    "# x1*w1 + x1*w2 + b\n",
    "x1w1 = x1*w1; x1w1.label = 'x1*w1'\n",
    "x2w2 = x2*w2; x2w2.label = 'x2*w2'\n",
    "x1w1x2w2 = x1w1 + x2w2; x1w1x2w2.label = 'x1*w1 + x2*w2'\n",
    "n = x1w1x2w2 + b; n.label = 'n'\n",
    "o = n.tanh(); o.label = 'o'\n"
   ]
  },
  {
   "cell_type": "code",
   "execution_count": 144,
   "metadata": {},
   "outputs": [
    {
     "data": {
      "image/svg+xml": [
       "<?xml version=\"1.0\" encoding=\"UTF-8\" standalone=\"no\"?>\n",
       "<!DOCTYPE svg PUBLIC \"-//W3C//DTD SVG 1.1//EN\"\n",
       " \"http://www.w3.org/Graphics/SVG/1.1/DTD/svg11.dtd\">\n",
       "<!-- Generated by graphviz version 7.1.0 (20230121.1956)\n",
       " -->\n",
       "<!-- Pages: 1 -->\n",
       "<svg width=\"1586pt\" height=\"210pt\"\n",
       " viewBox=\"0.00 0.00 1586.00 210.00\" xmlns=\"http://www.w3.org/2000/svg\" xmlns:xlink=\"http://www.w3.org/1999/xlink\">\n",
       "<g id=\"graph0\" class=\"graph\" transform=\"scale(1 1) rotate(0) translate(4 206)\">\n",
       "<polygon fill=\"white\" stroke=\"none\" points=\"-4,4 -4,-206 1582,-206 1582,4 -4,4\"/>\n",
       "<!-- 2017537385472 -->\n",
       "<g id=\"node1\" class=\"node\">\n",
       "<title>2017537385472</title>\n",
       "<polygon fill=\"none\" stroke=\"black\" points=\"2.5,-165.5 2.5,-201.5 199.5,-201.5 199.5,-165.5 2.5,-165.5\"/>\n",
       "<text text-anchor=\"middle\" x=\"19\" y=\"-179.8\" font-family=\"Times New Roman,serif\" font-size=\"14.00\">w2</text>\n",
       "<polyline fill=\"none\" stroke=\"black\" points=\"35.5,-165.5 35.5,-201.5\"/>\n",
       "<text text-anchor=\"middle\" x=\"76\" y=\"-179.8\" font-family=\"Times New Roman,serif\" font-size=\"14.00\">data 1.0000</text>\n",
       "<polyline fill=\"none\" stroke=\"black\" points=\"116.5,-165.5 116.5,-201.5\"/>\n",
       "<text text-anchor=\"middle\" x=\"158\" y=\"-179.8\" font-family=\"Times New Roman,serif\" font-size=\"14.00\">grad 0.0000</text>\n",
       "</g>\n",
       "<!-- 2017537362336* -->\n",
       "<g id=\"node10\" class=\"node\">\n",
       "<title>2017537362336*</title>\n",
       "<ellipse fill=\"none\" stroke=\"black\" cx=\"265\" cy=\"-128.5\" rx=\"27\" ry=\"18\"/>\n",
       "<text text-anchor=\"middle\" x=\"265\" y=\"-124.8\" font-family=\"Times New Roman,serif\" font-size=\"14.00\">*</text>\n",
       "</g>\n",
       "<!-- 2017537385472&#45;&gt;2017537362336* -->\n",
       "<g id=\"edge13\" class=\"edge\">\n",
       "<title>2017537385472&#45;&gt;2017537362336*</title>\n",
       "<path fill=\"none\" stroke=\"black\" d=\"M173.99,-165.56C183.48,-162.75 193.03,-159.71 202,-156.5 212.1,-152.88 222.83,-148.31 232.49,-143.91\"/>\n",
       "<polygon fill=\"black\" stroke=\"black\" points=\"233.88,-147.12 241.46,-139.72 230.92,-140.78 233.88,-147.12\"/>\n",
       "</g>\n",
       "<!-- 2017537384992 -->\n",
       "<g id=\"node2\" class=\"node\">\n",
       "<title>2017537384992</title>\n",
       "<polygon fill=\"none\" stroke=\"black\" points=\"2,-55.5 2,-91.5 200,-91.5 200,-55.5 2,-55.5\"/>\n",
       "<text text-anchor=\"middle\" x=\"17\" y=\"-69.8\" font-family=\"Times New Roman,serif\" font-size=\"14.00\">x1</text>\n",
       "<polyline fill=\"none\" stroke=\"black\" points=\"32,-55.5 32,-91.5\"/>\n",
       "<text text-anchor=\"middle\" x=\"72.5\" y=\"-69.8\" font-family=\"Times New Roman,serif\" font-size=\"14.00\">data 2.0000</text>\n",
       "<polyline fill=\"none\" stroke=\"black\" points=\"113,-55.5 113,-91.5\"/>\n",
       "<text text-anchor=\"middle\" x=\"156.5\" y=\"-69.8\" font-family=\"Times New Roman,serif\" font-size=\"14.00\">grad &#45;1.5000</text>\n",
       "</g>\n",
       "<!-- 2017537385664* -->\n",
       "<g id=\"node5\" class=\"node\">\n",
       "<title>2017537385664*</title>\n",
       "<ellipse fill=\"none\" stroke=\"black\" cx=\"265\" cy=\"-73.5\" rx=\"27\" ry=\"18\"/>\n",
       "<text text-anchor=\"middle\" x=\"265\" y=\"-69.8\" font-family=\"Times New Roman,serif\" font-size=\"14.00\">*</text>\n",
       "</g>\n",
       "<!-- 2017537384992&#45;&gt;2017537385664* -->\n",
       "<g id=\"edge14\" class=\"edge\">\n",
       "<title>2017537384992&#45;&gt;2017537385664*</title>\n",
       "<path fill=\"none\" stroke=\"black\" d=\"M199.97,-73.5C209.29,-73.5 218.28,-73.5 226.45,-73.5\"/>\n",
       "<polygon fill=\"black\" stroke=\"black\" points=\"226.23,-77 236.23,-73.5 226.23,-70 226.23,-77\"/>\n",
       "</g>\n",
       "<!-- 2017537385136 -->\n",
       "<g id=\"node3\" class=\"node\">\n",
       "<title>2017537385136</title>\n",
       "<polygon fill=\"none\" stroke=\"black\" points=\"4,-110.5 4,-146.5 198,-146.5 198,-110.5 4,-110.5\"/>\n",
       "<text text-anchor=\"middle\" x=\"19\" y=\"-124.8\" font-family=\"Times New Roman,serif\" font-size=\"14.00\">x2</text>\n",
       "<polyline fill=\"none\" stroke=\"black\" points=\"34,-110.5 34,-146.5\"/>\n",
       "<text text-anchor=\"middle\" x=\"74.5\" y=\"-124.8\" font-family=\"Times New Roman,serif\" font-size=\"14.00\">data 0.0000</text>\n",
       "<polyline fill=\"none\" stroke=\"black\" points=\"115,-110.5 115,-146.5\"/>\n",
       "<text text-anchor=\"middle\" x=\"156.5\" y=\"-124.8\" font-family=\"Times New Roman,serif\" font-size=\"14.00\">grad 0.5000</text>\n",
       "</g>\n",
       "<!-- 2017537385136&#45;&gt;2017537362336* -->\n",
       "<g id=\"edge7\" class=\"edge\">\n",
       "<title>2017537385136&#45;&gt;2017537362336*</title>\n",
       "<path fill=\"none\" stroke=\"black\" d=\"M197.64,-128.5C207.72,-128.5 217.49,-128.5 226.29,-128.5\"/>\n",
       "<polygon fill=\"black\" stroke=\"black\" points=\"226.11,-132 236.11,-128.5 226.11,-125 226.11,-132\"/>\n",
       "</g>\n",
       "<!-- 2017537385664 -->\n",
       "<g id=\"node4\" class=\"node\">\n",
       "<title>2017537385664</title>\n",
       "<polygon fill=\"none\" stroke=\"black\" points=\"328,-55.5 328,-91.5 550,-91.5 550,-55.5 328,-55.5\"/>\n",
       "<text text-anchor=\"middle\" x=\"354.5\" y=\"-69.8\" font-family=\"Times New Roman,serif\" font-size=\"14.00\">x1*w1</text>\n",
       "<polyline fill=\"none\" stroke=\"black\" points=\"381,-55.5 381,-91.5\"/>\n",
       "<text text-anchor=\"middle\" x=\"424\" y=\"-69.8\" font-family=\"Times New Roman,serif\" font-size=\"14.00\">data &#45;6.0000</text>\n",
       "<polyline fill=\"none\" stroke=\"black\" points=\"467,-55.5 467,-91.5\"/>\n",
       "<text text-anchor=\"middle\" x=\"508.5\" y=\"-69.8\" font-family=\"Times New Roman,serif\" font-size=\"14.00\">grad 0.5000</text>\n",
       "</g>\n",
       "<!-- 2017537361376+ -->\n",
       "<g id=\"node15\" class=\"node\">\n",
       "<title>2017537361376+</title>\n",
       "<ellipse fill=\"none\" stroke=\"black\" cx=\"613\" cy=\"-100.5\" rx=\"27\" ry=\"18\"/>\n",
       "<text text-anchor=\"middle\" x=\"613\" y=\"-96.8\" font-family=\"Times New Roman,serif\" font-size=\"14.00\">+</text>\n",
       "</g>\n",
       "<!-- 2017537385664&#45;&gt;2017537361376+ -->\n",
       "<g id=\"edge6\" class=\"edge\">\n",
       "<title>2017537385664&#45;&gt;2017537361376+</title>\n",
       "<path fill=\"none\" stroke=\"black\" d=\"M549.9,-90.75C558.72,-92.14 567.17,-93.46 574.84,-94.67\"/>\n",
       "<polygon fill=\"black\" stroke=\"black\" points=\"574.29,-98.12 584.71,-96.22 575.37,-91.21 574.29,-98.12\"/>\n",
       "</g>\n",
       "<!-- 2017537385664*&#45;&gt;2017537385664 -->\n",
       "<g id=\"edge1\" class=\"edge\">\n",
       "<title>2017537385664*&#45;&gt;2017537385664</title>\n",
       "<path fill=\"none\" stroke=\"black\" d=\"M292.5,-73.5C299.65,-73.5 307.89,-73.5 316.72,-73.5\"/>\n",
       "<polygon fill=\"black\" stroke=\"black\" points=\"316.69,-77 326.68,-73.5 316.68,-70 316.69,-77\"/>\n",
       "</g>\n",
       "<!-- 2017537384704 -->\n",
       "<g id=\"node6\" class=\"node\">\n",
       "<title>2017537384704</title>\n",
       "<polygon fill=\"none\" stroke=\"black\" points=\"719.5,-27.5 719.5,-63.5 907.5,-63.5 907.5,-27.5 719.5,-27.5\"/>\n",
       "<text text-anchor=\"middle\" x=\"731.5\" y=\"-41.8\" font-family=\"Times New Roman,serif\" font-size=\"14.00\">b</text>\n",
       "<polyline fill=\"none\" stroke=\"black\" points=\"743.5,-27.5 743.5,-63.5\"/>\n",
       "<text text-anchor=\"middle\" x=\"784\" y=\"-41.8\" font-family=\"Times New Roman,serif\" font-size=\"14.00\">data 6.8814</text>\n",
       "<polyline fill=\"none\" stroke=\"black\" points=\"824.5,-27.5 824.5,-63.5\"/>\n",
       "<text text-anchor=\"middle\" x=\"866\" y=\"-41.8\" font-family=\"Times New Roman,serif\" font-size=\"14.00\">grad 0.5000</text>\n",
       "</g>\n",
       "<!-- 2017537360656+ -->\n",
       "<g id=\"node8\" class=\"node\">\n",
       "<title>2017537360656+</title>\n",
       "<ellipse fill=\"none\" stroke=\"black\" cx=\"1014\" cy=\"-72.5\" rx=\"27\" ry=\"18\"/>\n",
       "<text text-anchor=\"middle\" x=\"1014\" y=\"-68.8\" font-family=\"Times New Roman,serif\" font-size=\"14.00\">+</text>\n",
       "</g>\n",
       "<!-- 2017537384704&#45;&gt;2017537360656+ -->\n",
       "<g id=\"edge9\" class=\"edge\">\n",
       "<title>2017537384704&#45;&gt;2017537360656+</title>\n",
       "<path fill=\"none\" stroke=\"black\" d=\"M907.36,-58.13C931.59,-61.43 956.33,-64.79 975.77,-67.44\"/>\n",
       "<polygon fill=\"black\" stroke=\"black\" points=\"975.26,-70.9 985.64,-68.78 976.21,-63.96 975.26,-70.9\"/>\n",
       "</g>\n",
       "<!-- 2017537360656 -->\n",
       "<g id=\"node7\" class=\"node\">\n",
       "<title>2017537360656</title>\n",
       "<polygon fill=\"none\" stroke=\"black\" points=\"1077,-54.5 1077,-90.5 1264,-90.5 1264,-54.5 1077,-54.5\"/>\n",
       "<text text-anchor=\"middle\" x=\"1088.5\" y=\"-68.8\" font-family=\"Times New Roman,serif\" font-size=\"14.00\">n</text>\n",
       "<polyline fill=\"none\" stroke=\"black\" points=\"1100,-54.5 1100,-90.5\"/>\n",
       "<text text-anchor=\"middle\" x=\"1140.5\" y=\"-68.8\" font-family=\"Times New Roman,serif\" font-size=\"14.00\">data 0.8814</text>\n",
       "<polyline fill=\"none\" stroke=\"black\" points=\"1181,-54.5 1181,-90.5\"/>\n",
       "<text text-anchor=\"middle\" x=\"1222.5\" y=\"-68.8\" font-family=\"Times New Roman,serif\" font-size=\"14.00\">grad 0.5000</text>\n",
       "</g>\n",
       "<!-- 2017536568240tanh -->\n",
       "<g id=\"node12\" class=\"node\">\n",
       "<title>2017536568240tanh</title>\n",
       "<ellipse fill=\"none\" stroke=\"black\" cx=\"1327\" cy=\"-72.5\" rx=\"27\" ry=\"18\"/>\n",
       "<text text-anchor=\"middle\" x=\"1327\" y=\"-68.8\" font-family=\"Times New Roman,serif\" font-size=\"14.00\">tanh</text>\n",
       "</g>\n",
       "<!-- 2017537360656&#45;&gt;2017536568240tanh -->\n",
       "<g id=\"edge8\" class=\"edge\">\n",
       "<title>2017537360656&#45;&gt;2017536568240tanh</title>\n",
       "<path fill=\"none\" stroke=\"black\" d=\"M1263.6,-72.5C1272.26,-72.5 1280.65,-72.5 1288.33,-72.5\"/>\n",
       "<polygon fill=\"black\" stroke=\"black\" points=\"1288.23,-76 1298.23,-72.5 1288.23,-69 1288.23,-76\"/>\n",
       "</g>\n",
       "<!-- 2017537360656+&#45;&gt;2017537360656 -->\n",
       "<g id=\"edge2\" class=\"edge\">\n",
       "<title>2017537360656+&#45;&gt;2017537360656</title>\n",
       "<path fill=\"none\" stroke=\"black\" d=\"M1041.21,-72.5C1048.47,-72.5 1056.83,-72.5 1065.71,-72.5\"/>\n",
       "<polygon fill=\"black\" stroke=\"black\" points=\"1065.7,-76 1075.7,-72.5 1065.7,-69 1065.7,-76\"/>\n",
       "</g>\n",
       "<!-- 2017537362336 -->\n",
       "<g id=\"node9\" class=\"node\">\n",
       "<title>2017537362336</title>\n",
       "<polygon fill=\"none\" stroke=\"black\" points=\"330.5,-110.5 330.5,-146.5 547.5,-146.5 547.5,-110.5 330.5,-110.5\"/>\n",
       "<text text-anchor=\"middle\" x=\"357\" y=\"-124.8\" font-family=\"Times New Roman,serif\" font-size=\"14.00\">x2*w2</text>\n",
       "<polyline fill=\"none\" stroke=\"black\" points=\"383.5,-110.5 383.5,-146.5\"/>\n",
       "<text text-anchor=\"middle\" x=\"424\" y=\"-124.8\" font-family=\"Times New Roman,serif\" font-size=\"14.00\">data 0.0000</text>\n",
       "<polyline fill=\"none\" stroke=\"black\" points=\"464.5,-110.5 464.5,-146.5\"/>\n",
       "<text text-anchor=\"middle\" x=\"506\" y=\"-124.8\" font-family=\"Times New Roman,serif\" font-size=\"14.00\">grad 0.5000</text>\n",
       "</g>\n",
       "<!-- 2017537362336&#45;&gt;2017537361376+ -->\n",
       "<g id=\"edge10\" class=\"edge\">\n",
       "<title>2017537362336&#45;&gt;2017537361376+</title>\n",
       "<path fill=\"none\" stroke=\"black\" d=\"M547.46,-111.01C557.25,-109.41 566.64,-107.88 575.08,-106.51\"/>\n",
       "<polygon fill=\"black\" stroke=\"black\" points=\"575.52,-109.98 584.83,-104.92 574.4,-103.08 575.52,-109.98\"/>\n",
       "</g>\n",
       "<!-- 2017537362336*&#45;&gt;2017537362336 -->\n",
       "<g id=\"edge3\" class=\"edge\">\n",
       "<title>2017537362336*&#45;&gt;2017537362336</title>\n",
       "<path fill=\"none\" stroke=\"black\" d=\"M292.5,-128.5C300.37,-128.5 309.55,-128.5 319.4,-128.5\"/>\n",
       "<polygon fill=\"black\" stroke=\"black\" points=\"319.25,-132 329.25,-128.5 319.25,-125 319.25,-132\"/>\n",
       "</g>\n",
       "<!-- 2017536568240 -->\n",
       "<g id=\"node11\" class=\"node\">\n",
       "<title>2017536568240</title>\n",
       "<polygon fill=\"none\" stroke=\"black\" points=\"1390,-54.5 1390,-90.5 1578,-90.5 1578,-54.5 1390,-54.5\"/>\n",
       "<text text-anchor=\"middle\" x=\"1402\" y=\"-68.8\" font-family=\"Times New Roman,serif\" font-size=\"14.00\">o</text>\n",
       "<polyline fill=\"none\" stroke=\"black\" points=\"1414,-54.5 1414,-90.5\"/>\n",
       "<text text-anchor=\"middle\" x=\"1454.5\" y=\"-68.8\" font-family=\"Times New Roman,serif\" font-size=\"14.00\">data 0.7071</text>\n",
       "<polyline fill=\"none\" stroke=\"black\" points=\"1495,-54.5 1495,-90.5\"/>\n",
       "<text text-anchor=\"middle\" x=\"1536.5\" y=\"-68.8\" font-family=\"Times New Roman,serif\" font-size=\"14.00\">grad 1.0000</text>\n",
       "</g>\n",
       "<!-- 2017536568240tanh&#45;&gt;2017536568240 -->\n",
       "<g id=\"edge4\" class=\"edge\">\n",
       "<title>2017536568240tanh&#45;&gt;2017536568240</title>\n",
       "<path fill=\"none\" stroke=\"black\" d=\"M1354.29,-72.5C1361.52,-72.5 1369.82,-72.5 1378.66,-72.5\"/>\n",
       "<polygon fill=\"black\" stroke=\"black\" points=\"1378.57,-76 1388.57,-72.5 1378.57,-69 1378.57,-76\"/>\n",
       "</g>\n",
       "<!-- 2017537386960 -->\n",
       "<g id=\"node13\" class=\"node\">\n",
       "<title>2017537386960</title>\n",
       "<polygon fill=\"none\" stroke=\"black\" points=\"0,-0.5 0,-36.5 202,-36.5 202,-0.5 0,-0.5\"/>\n",
       "<text text-anchor=\"middle\" x=\"16.5\" y=\"-14.8\" font-family=\"Times New Roman,serif\" font-size=\"14.00\">w1</text>\n",
       "<polyline fill=\"none\" stroke=\"black\" points=\"33,-0.5 33,-36.5\"/>\n",
       "<text text-anchor=\"middle\" x=\"76\" y=\"-14.8\" font-family=\"Times New Roman,serif\" font-size=\"14.00\">data &#45;3.0000</text>\n",
       "<polyline fill=\"none\" stroke=\"black\" points=\"119,-0.5 119,-36.5\"/>\n",
       "<text text-anchor=\"middle\" x=\"160.5\" y=\"-14.8\" font-family=\"Times New Roman,serif\" font-size=\"14.00\">grad 1.0000</text>\n",
       "</g>\n",
       "<!-- 2017537386960&#45;&gt;2017537385664* -->\n",
       "<g id=\"edge12\" class=\"edge\">\n",
       "<title>2017537386960&#45;&gt;2017537385664*</title>\n",
       "<path fill=\"none\" stroke=\"black\" d=\"M170.98,-36.47C181.45,-39.58 192.06,-42.96 202,-46.5 211.97,-50.05 222.6,-54.44 232.19,-58.65\"/>\n",
       "<polygon fill=\"black\" stroke=\"black\" points=\"230.55,-61.75 241.11,-62.64 233.41,-55.36 230.55,-61.75\"/>\n",
       "</g>\n",
       "<!-- 2017537361376 -->\n",
       "<g id=\"node14\" class=\"node\">\n",
       "<title>2017537361376</title>\n",
       "<polygon fill=\"none\" stroke=\"black\" points=\"676,-82.5 676,-118.5 951,-118.5 951,-82.5 676,-82.5\"/>\n",
       "<text text-anchor=\"middle\" x=\"729\" y=\"-96.8\" font-family=\"Times New Roman,serif\" font-size=\"14.00\">x1*w1 + x2*w2</text>\n",
       "<polyline fill=\"none\" stroke=\"black\" points=\"782,-82.5 782,-118.5\"/>\n",
       "<text text-anchor=\"middle\" x=\"825\" y=\"-96.8\" font-family=\"Times New Roman,serif\" font-size=\"14.00\">data &#45;6.0000</text>\n",
       "<polyline fill=\"none\" stroke=\"black\" points=\"868,-82.5 868,-118.5\"/>\n",
       "<text text-anchor=\"middle\" x=\"909.5\" y=\"-96.8\" font-family=\"Times New Roman,serif\" font-size=\"14.00\">grad 0.5000</text>\n",
       "</g>\n",
       "<!-- 2017537361376&#45;&gt;2017537360656+ -->\n",
       "<g id=\"edge11\" class=\"edge\">\n",
       "<title>2017537361376&#45;&gt;2017537360656+</title>\n",
       "<path fill=\"none\" stroke=\"black\" d=\"M941.9,-82.53C954.16,-80.8 965.8,-79.16 975.98,-77.72\"/>\n",
       "<polygon fill=\"black\" stroke=\"black\" points=\"976.29,-81.21 985.7,-76.35 975.31,-74.28 976.29,-81.21\"/>\n",
       "</g>\n",
       "<!-- 2017537361376+&#45;&gt;2017537361376 -->\n",
       "<g id=\"edge5\" class=\"edge\">\n",
       "<title>2017537361376+&#45;&gt;2017537361376</title>\n",
       "<path fill=\"none\" stroke=\"black\" d=\"M640.36,-100.5C647.56,-100.5 655.89,-100.5 664.94,-100.5\"/>\n",
       "<polygon fill=\"black\" stroke=\"black\" points=\"664.78,-104 674.78,-100.5 664.78,-97 664.78,-104\"/>\n",
       "</g>\n",
       "</g>\n",
       "</svg>\n"
      ],
      "text/plain": [
       "<graphviz.graphs.Digraph at 0x1d5be990b50>"
      ]
     },
     "execution_count": 144,
     "metadata": {},
     "output_type": "execute_result"
    }
   ],
   "source": [
    "draw_dot(o)"
   ]
  },
  {
   "cell_type": "code",
   "execution_count": 143,
   "metadata": {},
   "outputs": [],
   "source": [
    "o.backward()"
   ]
  },
  {
   "cell_type": "code",
   "execution_count": 134,
   "metadata": {},
   "outputs": [],
   "source": [
    "o.grad = 1"
   ]
  },
  {
   "cell_type": "code",
   "execution_count": 122,
   "metadata": {},
   "outputs": [],
   "source": [
    "o._backward()"
   ]
  },
  {
   "cell_type": "code",
   "execution_count": 125,
   "metadata": {},
   "outputs": [],
   "source": [
    "n._backward()"
   ]
  },
  {
   "cell_type": "code",
   "execution_count": 126,
   "metadata": {},
   "outputs": [],
   "source": [
    "b._backward()"
   ]
  },
  {
   "cell_type": "code",
   "execution_count": 128,
   "metadata": {},
   "outputs": [],
   "source": [
    "x1w1x2w2._backward()"
   ]
  },
  {
   "cell_type": "code",
   "execution_count": 130,
   "metadata": {},
   "outputs": [],
   "source": [
    "x1w1._backward()\n",
    "x2w2._backward()"
   ]
  },
  {
   "cell_type": "code",
   "execution_count": 104,
   "metadata": {},
   "outputs": [],
   "source": [
    "w2.grad = x2.data * x2w2.grad\n",
    "x2.grad = w2.data * x2w2.grad"
   ]
  },
  {
   "cell_type": "code",
   "execution_count": 102,
   "metadata": {},
   "outputs": [],
   "source": [
    "w1.grad = x1.data * x1w1.grad\n",
    "x1.grad = w1.data * x1w1.grad"
   ]
  },
  {
   "cell_type": "code",
   "execution_count": 94,
   "metadata": {},
   "outputs": [],
   "source": [
    "x1w1.grad = 0.5\n",
    "x2w2.grad = 0.5"
   ]
  },
  {
   "cell_type": "code",
   "execution_count": 95,
   "metadata": {},
   "outputs": [],
   "source": [
    "x1w1x2w2.grad = 0.5\n",
    "b.grad = 0.5"
   ]
  },
  {
   "cell_type": "code",
   "execution_count": 96,
   "metadata": {},
   "outputs": [],
   "source": [
    "n.grad = 0.5"
   ]
  },
  {
   "cell_type": "code",
   "execution_count": 97,
   "metadata": {},
   "outputs": [],
   "source": [
    "o.grad = 1"
   ]
  },
  {
   "cell_type": "code",
   "execution_count": 98,
   "metadata": {},
   "outputs": [],
   "source": [
    "# o = tanh(n)\n",
    "# do/dn = 1 - tanh(n)^2 = 1 - o^2"
   ]
  },
  {
   "cell_type": "code",
   "execution_count": 99,
   "metadata": {},
   "outputs": [
    {
     "data": {
      "text/plain": [
       "0.4999999999999999"
      ]
     },
     "execution_count": 99,
     "metadata": {},
     "output_type": "execute_result"
    }
   ],
   "source": [
    "1 - o.data**2"
   ]
  },
  {
   "cell_type": "code",
   "execution_count": null,
   "metadata": {
    "collapsed": true
   },
   "outputs": [],
   "source": []
  }
 ],
 "metadata": {
  "kernelspec": {
   "display_name": "Python 3 (ipykernel)",
   "language": "python",
   "name": "python3"
  },
  "language_info": {
   "codemirror_mode": {
    "name": "ipython",
    "version": 3
   },
   "file_extension": ".py",
   "mimetype": "text/x-python",
   "name": "python",
   "nbconvert_exporter": "python",
   "pygments_lexer": "ipython3",
   "version": "3.9.13"
  },
  "vscode": {
   "interpreter": {
    "hash": "3ad933181bd8a04b432d3370b9dc3b0662ad032c4dfaa4e4f1596c548f763858"
   }
  }
 },
 "nbformat": 4,
 "nbformat_minor": 2
}
